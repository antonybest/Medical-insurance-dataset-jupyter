{
 "cells": [
  {
   "cell_type": "markdown",
   "metadata": {},
   "source": [
    "# U.S. Medical Insurance Costs"
   ]
  },
  {
   "cell_type": "markdown",
   "metadata": {},
   "source": [
    "#### This project requires me to take note of how information is organized within the insurance.csv file. Investigate anything of particular interest. Learn more about particular patients, and produce the findings that are relevant."
   ]
  },
  {
   "cell_type": "markdown",
   "metadata": {},
   "source": [
    "## Project Objectives:\n",
    "##### - Find out the average age of the patients in the dataset.\n",
    "##### - Analyze where a majority of the individuals are from.\n",
    "##### - Look at the different costs between smokers vs. non-smokers.\n",
    "##### - Figure out what the average age is for someone who has at least one child in this dataset.\n",
    "##### "
   ]
  },
  {
   "cell_type": "code",
   "execution_count": 190,
   "metadata": {},
   "outputs": [],
   "source": [
    "import pandas as pd\n",
    "import csv\n",
    "import matplotlib.pyplot as plt\n",
    "import seaborn as sns"
   ]
  },
  {
   "cell_type": "markdown",
   "metadata": {},
   "source": [
    "## Dataframe information:"
   ]
  },
  {
   "cell_type": "code",
   "execution_count": 191,
   "metadata": {},
   "outputs": [],
   "source": [
    "df = pd.read_csv(\"insurance.csv\")"
   ]
  },
  {
   "cell_type": "code",
   "execution_count": 192,
   "metadata": {},
   "outputs": [
    {
     "data": {
      "text/html": [
       "<div>\n",
       "<style scoped>\n",
       "    .dataframe tbody tr th:only-of-type {\n",
       "        vertical-align: middle;\n",
       "    }\n",
       "\n",
       "    .dataframe tbody tr th {\n",
       "        vertical-align: top;\n",
       "    }\n",
       "\n",
       "    .dataframe thead th {\n",
       "        text-align: right;\n",
       "    }\n",
       "</style>\n",
       "<table border=\"1\" class=\"dataframe\">\n",
       "  <thead>\n",
       "    <tr style=\"text-align: right;\">\n",
       "      <th></th>\n",
       "      <th>age</th>\n",
       "      <th>sex</th>\n",
       "      <th>bmi</th>\n",
       "      <th>children</th>\n",
       "      <th>smoker</th>\n",
       "      <th>region</th>\n",
       "      <th>charges</th>\n",
       "    </tr>\n",
       "  </thead>\n",
       "  <tbody>\n",
       "    <tr>\n",
       "      <th>0</th>\n",
       "      <td>19</td>\n",
       "      <td>female</td>\n",
       "      <td>27.900</td>\n",
       "      <td>0</td>\n",
       "      <td>yes</td>\n",
       "      <td>southwest</td>\n",
       "      <td>16884.92400</td>\n",
       "    </tr>\n",
       "    <tr>\n",
       "      <th>1</th>\n",
       "      <td>18</td>\n",
       "      <td>male</td>\n",
       "      <td>33.770</td>\n",
       "      <td>1</td>\n",
       "      <td>no</td>\n",
       "      <td>southeast</td>\n",
       "      <td>1725.55230</td>\n",
       "    </tr>\n",
       "    <tr>\n",
       "      <th>2</th>\n",
       "      <td>28</td>\n",
       "      <td>male</td>\n",
       "      <td>33.000</td>\n",
       "      <td>3</td>\n",
       "      <td>no</td>\n",
       "      <td>southeast</td>\n",
       "      <td>4449.46200</td>\n",
       "    </tr>\n",
       "    <tr>\n",
       "      <th>3</th>\n",
       "      <td>33</td>\n",
       "      <td>male</td>\n",
       "      <td>22.705</td>\n",
       "      <td>0</td>\n",
       "      <td>no</td>\n",
       "      <td>northwest</td>\n",
       "      <td>21984.47061</td>\n",
       "    </tr>\n",
       "    <tr>\n",
       "      <th>4</th>\n",
       "      <td>32</td>\n",
       "      <td>male</td>\n",
       "      <td>28.880</td>\n",
       "      <td>0</td>\n",
       "      <td>no</td>\n",
       "      <td>northwest</td>\n",
       "      <td>3866.85520</td>\n",
       "    </tr>\n",
       "    <tr>\n",
       "      <th>5</th>\n",
       "      <td>31</td>\n",
       "      <td>female</td>\n",
       "      <td>25.740</td>\n",
       "      <td>0</td>\n",
       "      <td>no</td>\n",
       "      <td>southeast</td>\n",
       "      <td>3756.62160</td>\n",
       "    </tr>\n",
       "    <tr>\n",
       "      <th>6</th>\n",
       "      <td>46</td>\n",
       "      <td>female</td>\n",
       "      <td>33.440</td>\n",
       "      <td>1</td>\n",
       "      <td>no</td>\n",
       "      <td>southeast</td>\n",
       "      <td>8240.58960</td>\n",
       "    </tr>\n",
       "    <tr>\n",
       "      <th>7</th>\n",
       "      <td>37</td>\n",
       "      <td>female</td>\n",
       "      <td>27.740</td>\n",
       "      <td>3</td>\n",
       "      <td>no</td>\n",
       "      <td>northwest</td>\n",
       "      <td>7281.50560</td>\n",
       "    </tr>\n",
       "    <tr>\n",
       "      <th>8</th>\n",
       "      <td>37</td>\n",
       "      <td>male</td>\n",
       "      <td>29.830</td>\n",
       "      <td>2</td>\n",
       "      <td>no</td>\n",
       "      <td>northeast</td>\n",
       "      <td>6406.41070</td>\n",
       "    </tr>\n",
       "    <tr>\n",
       "      <th>9</th>\n",
       "      <td>60</td>\n",
       "      <td>female</td>\n",
       "      <td>25.840</td>\n",
       "      <td>0</td>\n",
       "      <td>no</td>\n",
       "      <td>northwest</td>\n",
       "      <td>28923.13692</td>\n",
       "    </tr>\n",
       "  </tbody>\n",
       "</table>\n",
       "</div>"
      ],
      "text/plain": [
       "   age     sex     bmi  children smoker     region      charges\n",
       "0   19  female  27.900         0    yes  southwest  16884.92400\n",
       "1   18    male  33.770         1     no  southeast   1725.55230\n",
       "2   28    male  33.000         3     no  southeast   4449.46200\n",
       "3   33    male  22.705         0     no  northwest  21984.47061\n",
       "4   32    male  28.880         0     no  northwest   3866.85520\n",
       "5   31  female  25.740         0     no  southeast   3756.62160\n",
       "6   46  female  33.440         1     no  southeast   8240.58960\n",
       "7   37  female  27.740         3     no  northwest   7281.50560\n",
       "8   37    male  29.830         2     no  northeast   6406.41070\n",
       "9   60  female  25.840         0     no  northwest  28923.13692"
      ]
     },
     "execution_count": 192,
     "metadata": {},
     "output_type": "execute_result"
    }
   ],
   "source": [
    "df.head(10)"
   ]
  },
  {
   "cell_type": "code",
   "execution_count": 193,
   "metadata": {},
   "outputs": [
    {
     "name": "stdout",
     "output_type": "stream",
     "text": [
      "<class 'pandas.core.frame.DataFrame'>\n",
      "RangeIndex: 1338 entries, 0 to 1337\n",
      "Data columns (total 7 columns):\n",
      " #   Column    Non-Null Count  Dtype  \n",
      "---  ------    --------------  -----  \n",
      " 0   age       1338 non-null   int64  \n",
      " 1   sex       1338 non-null   object \n",
      " 2   bmi       1338 non-null   float64\n",
      " 3   children  1338 non-null   int64  \n",
      " 4   smoker    1338 non-null   object \n",
      " 5   region    1338 non-null   object \n",
      " 6   charges   1338 non-null   float64\n",
      "dtypes: float64(2), int64(2), object(3)\n",
      "memory usage: 73.3+ KB\n"
     ]
    }
   ],
   "source": [
    "df.info()"
   ]
  },
  {
   "cell_type": "markdown",
   "metadata": {},
   "source": [
    "##### The above shows how many columns and rows are in the dataset.\n",
    "##### The data types are also displayed"
   ]
  },
  {
   "cell_type": "markdown",
   "metadata": {},
   "source": [
    "## Data collection for analysis"
   ]
  },
  {
   "cell_type": "code",
   "execution_count": 194,
   "metadata": {},
   "outputs": [],
   "source": [
    "# Insurance dictionary plus lists of each column, for analysis\n",
    "\n",
    "age = []\n",
    "sex = []\n",
    "bmi = []\n",
    "children = []\n",
    "smoker = []\n",
    "region = []\n",
    "charges = []\n",
    "\n",
    "with open(\"insurance.csv\", newline=\"\") as insurance_csv_file:\n",
    "    insurance_dict = csv.DictReader(insurance_csv_file)\n",
    "    for row in insurance_dict:\n",
    "        age.append(row[\"age\"])\n",
    "        sex.append(row[\"sex\"])\n",
    "        bmi.append(row[\"bmi\"])\n",
    "        children.append(row[\"children\"])\n",
    "        smoker.append(row[\"smoker\"])\n",
    "        region.append(row[\"region\"])\n",
    "        \n",
    "        charges.append(row[\"charges\"])"
   ]
  },
  {
   "cell_type": "markdown",
   "metadata": {},
   "source": [
    "## Conversion Calculator"
   ]
  },
  {
   "cell_type": "code",
   "execution_count": 195,
   "metadata": {},
   "outputs": [],
   "source": [
    "class ConversionCalculator:\n",
    "    \n",
    "    def average_calculator(self, lst, name):\n",
    "\n",
    "        total = 0\n",
    "\n",
    "        float_lst = map(float, lst)\n",
    "        converted_list = list(float_lst)\n",
    "        for i in converted_list:\n",
    "            total += i\n",
    "        \n",
    "        average = total / len(converted_list)\n",
    "\n",
    "        if name == \"bmi\":\n",
    "            print(90 * \"-\")\n",
    "            print(f\"The average {name} in the medical insurance data is: {round(average, 2)}.\")\n",
    "            print(90 * \"-\")\n",
    "            \n",
    "        elif name == \"children\":\n",
    "            print(90 * \"-\")\n",
    "            print(f\"The average amount of {name} patients have in the medical insurance data is: {round(average, 2)}.\")\n",
    "            print(90 * \"-\")\n",
    "        \n",
    "        elif name == \"charge\":\n",
    "            print(90 * \"-\")\n",
    "            print(f\"The average {name} in the medical insurance data is: ${round(average, 2)}.\")\n",
    "            print(90 * \"-\")\n",
    "        \n",
    "        else:\n",
    "            print(90 * \"-\")\n",
    "            print(f\"The average {name} in the medical insurance data is: {round(average)}.\")\n",
    "            print(90 * \"-\")\n",
    "            \n",
    "    def conversion(self, lst):\n",
    "        \n",
    "        float_list = map(float, lst)\n",
    "        converted_lst = list(float_list)\n",
    "        \n",
    "        global round_list\n",
    "        \n",
    "        round_list = [round(num, 2) for num in converted_lst]\n",
    "        \n",
    "        return round_list\n",
    "    \n",
    "    def min_max(self, lst, name):\n",
    "        \n",
    "        if name == \"children\":\n",
    "            \n",
    "            print(90 * \"-\")\n",
    "            print(f\"The highest number of {name} a patient has is {max(lst)} in the medical insurance data.\")\n",
    "            print(90 * \"-\")\n",
    "            \n",
    "            print(90 * \"-\")\n",
    "            print(f\"The lowest number of {name} a patient has is {min(lst)} in the medical insurance data.\")\n",
    "            print(90 * \"-\")\n",
    "        \n",
    "        elif name == \"charge\":\n",
    "            print(90 * \"-\")\n",
    "            print(f\"The highest {name} is ${max(self.conversion(lst))} in the medical insurance data.\")\n",
    "            print(90 * \"-\")\n",
    "        \n",
    "            print(90 * \"-\")\n",
    "            print(f\"The lowest {name} is ${min(self.conversion(lst))} in the medical insurance data.\")\n",
    "            print(90 * \"-\")\n",
    "        \n",
    "        else:\n",
    "            print(90 * \"-\")\n",
    "            print(f\"The highest {name} is {max(self.conversion(lst))} in the medical insurance data.\")\n",
    "            print(90 * \"-\")\n",
    "        \n",
    "            print(90 * \"-\")\n",
    "            print(f\"The lowest {name} is {min(self.conversion(lst))} in the medical insurance data.\")\n",
    "            print(90 * \"-\")\n",
    "            \n",
    "    def word_count(self, lst):\n",
    "        \n",
    "        word_count = set(lst)\n",
    "        \n",
    "        global freq\n",
    "        \n",
    "        freq = {}\n",
    "        \n",
    "        for word in word_count:\n",
    "            freq[word] = lst.count(word)\n",
    "            \n",
    "        return\n",
    "            \n",
    "        "
   ]
  },
  {
   "cell_type": "markdown",
   "metadata": {},
   "source": [
    "## Age Analysis:"
   ]
  },
  {
   "cell_type": "code",
   "execution_count": 196,
   "metadata": {},
   "outputs": [
    {
     "name": "stdout",
     "output_type": "stream",
     "text": [
      "------------------------------------------------------------------------------------------\n",
      "The average age in the medical insurance data is: 39.\n",
      "------------------------------------------------------------------------------------------\n",
      "------------------------------------------------------------------------------------------\n",
      "The highest age is 64.0 in the medical insurance data.\n",
      "------------------------------------------------------------------------------------------\n",
      "------------------------------------------------------------------------------------------\n",
      "The lowest age is 18.0 in the medical insurance data.\n",
      "------------------------------------------------------------------------------------------\n"
     ]
    }
   ],
   "source": [
    "age_info = ConversionCalculator()\n",
    "age_info.average_calculator(age, \"age\")\n",
    "age_info.min_max(age, \"age\")"
   ]
  },
  {
   "cell_type": "markdown",
   "metadata": {},
   "source": [
    "## Gender Analysis:"
   ]
  },
  {
   "cell_type": "code",
   "execution_count": 197,
   "metadata": {},
   "outputs": [
    {
     "name": "stdout",
     "output_type": "stream",
     "text": [
      "------------------------------------------------------------------------------------------\n",
      "We can see that male and female patients are spread fairley evenly in the medical insurance data:\n",
      "\n",
      "MALE: 676\n",
      "FEMALE: 662\n",
      "------------------------------------------------------------------------------------------\n"
     ]
    }
   ],
   "source": [
    "gender_info = ConversionCalculator()\n",
    "gender_info.word_count(sex)\n",
    "    \n",
    "print(90 * \"-\")\n",
    "print(\"We can see that male and female patients are spread fairley evenly in the medical insurance data:\\n\")\n",
    "print(f\"MALE: {freq.get('male', 'cannot find data')}\")\n",
    "print(f\"FEMALE: {freq.get('female', 'cannot find data')}\")\n",
    "print(90 * \"-\")"
   ]
  },
  {
   "cell_type": "markdown",
   "metadata": {},
   "source": [
    "## BMI Analysis:"
   ]
  },
  {
   "cell_type": "code",
   "execution_count": 198,
   "metadata": {},
   "outputs": [
    {
     "name": "stdout",
     "output_type": "stream",
     "text": [
      "------------------------------------------------------------------------------------------\n",
      "The average bmi in the medical insurance data is: 30.66.\n",
      "------------------------------------------------------------------------------------------\n",
      "------------------------------------------------------------------------------------------\n",
      "The highest bmi is 53.13 in the medical insurance data.\n",
      "------------------------------------------------------------------------------------------\n",
      "------------------------------------------------------------------------------------------\n",
      "The lowest bmi is 15.96 in the medical insurance data.\n",
      "------------------------------------------------------------------------------------------\n"
     ]
    }
   ],
   "source": [
    "bmi_info = ConversionCalculator()\n",
    "bmi_info.average_calculator(bmi, \"bmi\")\n",
    "bmi_info.min_max(bmi, \"bmi\")"
   ]
  },
  {
   "cell_type": "markdown",
   "metadata": {},
   "source": [
    "## Children Analysis"
   ]
  },
  {
   "cell_type": "code",
   "execution_count": 199,
   "metadata": {},
   "outputs": [
    {
     "name": "stdout",
     "output_type": "stream",
     "text": [
      "------------------------------------------------------------------------------------------\n",
      "The average amount of children patients have in the medical insurance data is: 1.09.\n",
      "------------------------------------------------------------------------------------------\n",
      "------------------------------------------------------------------------------------------\n",
      "The highest number of children a patient has is 5 in the medical insurance data.\n",
      "------------------------------------------------------------------------------------------\n",
      "------------------------------------------------------------------------------------------\n",
      "The lowest number of children a patient has is 0 in the medical insurance data.\n",
      "------------------------------------------------------------------------------------------\n"
     ]
    }
   ],
   "source": [
    "children_info = ConversionCalculator()\n",
    "children_info.average_calculator(children, \"children\")\n",
    "children_info.min_max(children, \"children\")"
   ]
  },
  {
   "cell_type": "markdown",
   "metadata": {},
   "source": [
    "## Smoker Analysis"
   ]
  },
  {
   "cell_type": "code",
   "execution_count": 200,
   "metadata": {},
   "outputs": [
    {
     "name": "stdout",
     "output_type": "stream",
     "text": [
      "------------------------------------------------------------------------------------------\n",
      "We can see that there are considerably more non-smokers in the medical insurance data than smokers:\n",
      "\n",
      "SMOKER:274\n",
      "NON-SMOKER:1064\n",
      "------------------------------------------------------------------------------------------\n"
     ]
    }
   ],
   "source": [
    "smoker_info = ConversionCalculator()\n",
    "smoker_info.word_count(smoker)\n",
    "    \n",
    "print(90 * \"-\")\n",
    "print(\"We can see that there are considerably more non-smokers in the medical insurance data than smokers:\\n\")\n",
    "print(f\"SMOKER:{freq.get('yes', 'cannot find data')}\")\n",
    "print(f\"NON-SMOKER:{freq.get('no', 'cannot find data')}\")\n",
    "print(90 * \"-\")"
   ]
  },
  {
   "cell_type": "markdown",
   "metadata": {},
   "source": [
    "## Region Analysis"
   ]
  },
  {
   "cell_type": "code",
   "execution_count": 201,
   "metadata": {},
   "outputs": [
    {
     "name": "stdout",
     "output_type": "stream",
     "text": [
      "------------------------------------------------------------------------------------------\n",
      "We can see that the regions are even in the medical insurance data:\n",
      "\n",
      "SOUTHWEST:325\n",
      "NORTHWEST:325\n",
      "------------------------------------------------------------------------------------------\n"
     ]
    }
   ],
   "source": [
    "region_info = ConversionCalculator()\n",
    "region_info.word_count(region)\n",
    "    \n",
    "print(90 * \"-\")\n",
    "print(\"We can see that the regions are even in the medical insurance data:\\n\")\n",
    "print(f\"SOUTHWEST:{freq.get('southwest', 'cannot find data')}\")\n",
    "print(f\"NORTHWEST:{freq.get('northwest', 'cannot find data')}\")\n",
    "print(90 * \"-\")"
   ]
  },
  {
   "cell_type": "markdown",
   "metadata": {},
   "source": [
    "## Price charge Analysis"
   ]
  },
  {
   "cell_type": "code",
   "execution_count": 202,
   "metadata": {},
   "outputs": [
    {
     "name": "stdout",
     "output_type": "stream",
     "text": [
      "------------------------------------------------------------------------------------------\n",
      "The average charge in the medical insurance data is: $13270.42.\n",
      "------------------------------------------------------------------------------------------\n",
      "------------------------------------------------------------------------------------------\n",
      "The highest charge is $63770.43 in the medical insurance data.\n",
      "------------------------------------------------------------------------------------------\n",
      "------------------------------------------------------------------------------------------\n",
      "The lowest charge is $1121.87 in the medical insurance data.\n",
      "------------------------------------------------------------------------------------------\n"
     ]
    }
   ],
   "source": [
    "price_info = ConversionCalculator()\n",
    "price_info.average_calculator(charges, \"charge\")\n",
    "price_info.min_max(charges, \"charge\")"
   ]
  },
  {
   "cell_type": "markdown",
   "metadata": {},
   "source": [
    "## Results Table"
   ]
  },
  {
   "cell_type": "code",
   "execution_count": 203,
   "metadata": {},
   "outputs": [],
   "source": [
    "def average(lst):\n",
    "    \n",
    "    total = 0\n",
    "\n",
    "    float_lst = map(float, lst)\n",
    "    converted_list = list(float_lst)\n",
    "    for i in converted_list:\n",
    "        total += i\n",
    "        \n",
    "    average = total / len(converted_list)\n",
    "    \n",
    "    return round(average, 2)"
   ]
  },
  {
   "cell_type": "code",
   "execution_count": 204,
   "metadata": {},
   "outputs": [],
   "source": [
    "average_age = average(age)\n",
    "average_bmi = average(bmi)\n",
    "average_children = average(children)\n",
    "average_charge = average(charges)\n",
    "min_round_charges = ConversionCalculator()\n",
    "max_round_charges = ConversionCalculator()\n",
    "min_charge = min_round_charges.conversion(charges)\n",
    "max_charge = max_round_charges.conversion(charges)\n",
    "\n",
    "results_table = {\n",
    "\"ANALYSIS\" : [\"Age\", \"GENDER\",\"bmi\", \"SMOKER\", \"REGION\", \"CHARGES\"],\n",
    "\"AVERAGE\" : [str(average_age), \"N/A\", str(average_bmi), \"N/A\", \"N/A\", str(average_charge)],\n",
    "\"MIN\" : [str(min(age)), str(min(sex)), str(min(bmi)), str(min(smoker)), str(min(region)), str(min(min_charge))],\n",
    "\"MAX\" : [max(age), max(sex), max(bmi), max(smoker), max(region), max(max_charge)],\n",
    "}"
   ]
  },
  {
   "cell_type": "code",
   "execution_count": 205,
   "metadata": {},
   "outputs": [],
   "source": [
    "df_results = pd.DataFrame(results_table)"
   ]
  },
  {
   "cell_type": "markdown",
   "metadata": {},
   "source": [
    "# Here are the final results: "
   ]
  },
  {
   "cell_type": "code",
   "execution_count": 206,
   "metadata": {},
   "outputs": [
    {
     "name": "stdout",
     "output_type": "stream",
     "text": [
      "--- U.S. Medical Insurance Costs findings ---\n",
      "\n",
      "  ANALYSIS   AVERAGE        MIN        MAX\n",
      "0      Age     39.21         18         64\n",
      "1   GENDER       N/A     female       male\n",
      "2      bmi     30.66      15.96      53.13\n",
      "3   SMOKER       N/A         no        yes\n",
      "4   REGION       N/A  northeast  southwest\n",
      "5  CHARGES  13270.42    1121.87   63770.43\n"
     ]
    }
   ],
   "source": [
    "print(\"--- U.S. Medical Insurance Costs findings ---\\n\")\n",
    "print(df_results)"
   ]
  },
  {
   "cell_type": "code",
   "execution_count": 207,
   "metadata": {},
   "outputs": [
    {
     "data": {
      "image/png": "[encoded data removed]",
      "text/plain": [
       "<Figure size 360x360 with 1 Axes>"
      ]
     },
     "metadata": {
      "needs_background": "light"
     },
     "output_type": "display_data"
    }
   ],
   "source": [
    "age = df[\"age\"]\n",
    "sns.displot(age)\n",
    "plt.title(\"Findings for the age groups\")\n",
    "plt.show()\n",
    "plt.close()"
   ]
  },
  {
   "cell_type": "code",
   "execution_count": 208,
   "metadata": {},
   "outputs": [
    {
     "data": {
      "image/png": "[encoded data removed]",
      "text/plain": [
       "<Figure size 360x360 with 1 Axes>"
      ]
     },
     "metadata": {
      "needs_background": "light"
     },
     "output_type": "display_data"
    }
   ],
   "source": [
    "gender = df[\"sex\"]\n",
    "sns.displot(gender)\n",
    "plt.title(\"Findings for the gender groups\")\n",
    "plt.show()\n",
    "plt.close()"
   ]
  },
  {
   "cell_type": "code",
   "execution_count": 209,
   "metadata": {},
   "outputs": [
    {
     "data": {
      "image/png": "[encoded data removed]",
      "text/plain": [
       "<Figure size 360x360 with 1 Axes>"
      ]
     },
     "metadata": {
      "needs_background": "light"
     },
     "output_type": "display_data"
    }
   ],
   "source": [
    "bmi = df[\"bmi\"]\n",
    "sns.displot(bmi)\n",
    "plt.title(\"Findings for the bmi groups\")\n",
    "plt.show()\n",
    "plt.close()"
   ]
  },
  {
   "cell_type": "code",
   "execution_count": 210,
   "metadata": {},
   "outputs": [
    {
     "data": {
      "image/png": "[encoded data removed]",
      "text/plain": [
       "<Figure size 360x360 with 1 Axes>"
      ]
     },
     "metadata": {
      "needs_background": "light"
     },
     "output_type": "display_data"
    }
   ],
   "source": [
    "children = df[\"children\"]\n",
    "sns.displot(children)\n",
    "plt.title(\"Findings for number of children in the data\")\n",
    "plt.show()\n",
    "plt.close()"
   ]
  },
  {
   "cell_type": "code",
   "execution_count": 211,
   "metadata": {},
   "outputs": [
    {
     "data": {
      "image/png": "[encoded data removed]",
      "text/plain": [
       "<Figure size 432x288 with 1 Axes>"
      ]
     },
     "metadata": {
      "needs_background": "light"
     },
     "output_type": "display_data"
    }
   ],
   "source": [
    "df.loc[df.smoker == \"yes\", \"smoker\"] = \"smoker\"\n",
    "df.loc[df.smoker == \"no\", \"smoker\"] = \"non-smoker\"\n",
    "\n",
    "smoker = df[\"smoker\"]\n",
    "sns.violinplot(x = \"smoker\", y = \"age\", data = df)\n",
    "plt.title(\"Findings for the smokers groups\")\n",
    "plt.show()\n",
    "plt.close()"
   ]
  },
  {
   "cell_type": "code",
   "execution_count": 218,
   "metadata": {},
   "outputs": [
    {
     "data": {
      "image/png": "[encoded data removed]",
      "text/plain": [
       "<Figure size 432x288 with 1 Axes>"
      ]
     },
     "metadata": {
      "needs_background": "light"
     },
     "output_type": "display_data"
    }
   ],
   "source": [
    "df.loc[df.region == \"southwest\", \"region\"] = \"southwest\"\n",
    "df.loc[df.region == \"northwest\", \"region\"] = \"northwest\"\n",
    "df.loc[df.region == \"southeast\", \"region\"] = \"southeast\"\n",
    "df.loc[df.region == \"northest\", \"region\"] = \"northeast\"\n",
    "\n",
    "region = df[\"region\"]\n",
    "sns.violinplot(x = \"region\", y = \"age\", data = df)\n",
    "plt.title(\"Findings for the regions data\")\n",
    "plt.show()\n",
    "plt.close()"
   ]
  },
  {
   "cell_type": "code",
   "execution_count": 219,
   "metadata": {},
   "outputs": [
    {
     "data": {
      "image/png": "[encoded data removed]",
      "text/plain": [
       "<Figure size 360x360 with 1 Axes>"
      ]
     },
     "metadata": {
      "needs_background": "light"
     },
     "output_type": "display_data"
    }
   ],
   "source": [
    "charges = df[\"charges\"]\n",
    "sns.displot(charges)\n",
    "plt.title(\"Findings for the charges on each group\")\n",
    "plt.show()\n",
    "plt.close()"
   ]
  }
 ],
 "metadata": {
  "kernelspec": {
   "display_name": "MEDICAL-INSURANCE-DATASET-ENV",
   "language": "python",
   "name": "medical-insurance-dataset-env"
  },
  "language_info": {
   "codemirror_mode": {
    "name": "ipython",
    "version": 3
   },
   "file_extension": ".py",
   "mimetype": "text/x-python",
   "name": "python",
   "nbconvert_exporter": "python",
   "pygments_lexer": "ipython3",
   "version": "3.9.10"
  }
 },
 "nbformat": 4,
 "nbformat_minor": 4
}
